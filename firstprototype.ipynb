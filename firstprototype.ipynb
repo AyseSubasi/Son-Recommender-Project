{
 "cells": [
  {
   "cell_type": "code",
   "execution_count": 1,
   "id": "cad4700a",
   "metadata": {},
   "outputs": [],
   "source": [
    "from bs4 import BeautifulSoup\n",
    "import pandas as pd\n",
    "import random"
   ]
  },
  {
   "cell_type": "code",
   "execution_count": 2,
   "id": "ebce1e90",
   "metadata": {},
   "outputs": [],
   "source": [
    "top100=pd.read_csv(\"./top100.csv\")"
   ]
  },
  {
   "cell_type": "markdown",
   "id": "00746c31",
   "metadata": {},
   "source": [
    "Cleaning"
   ]
  },
  {
   "cell_type": "code",
   "execution_count": 3,
   "id": "3ac8d568",
   "metadata": {
    "scrolled": true
   },
   "outputs": [
    {
     "data": {
      "text/html": [
       "<div>\n",
       "<style scoped>\n",
       "    .dataframe tbody tr th:only-of-type {\n",
       "        vertical-align: middle;\n",
       "    }\n",
       "\n",
       "    .dataframe tbody tr th {\n",
       "        vertical-align: top;\n",
       "    }\n",
       "\n",
       "    .dataframe thead th {\n",
       "        text-align: right;\n",
       "    }\n",
       "</style>\n",
       "<table border=\"1\" class=\"dataframe\">\n",
       "  <thead>\n",
       "    <tr style=\"text-align: right;\">\n",
       "      <th></th>\n",
       "      <th>Unnamed: 0</th>\n",
       "      <th>title</th>\n",
       "      <th>artist</th>\n",
       "    </tr>\n",
       "  </thead>\n",
       "  <tbody>\n",
       "    <tr>\n",
       "      <th>0</th>\n",
       "      <td>1</td>\n",
       "      <td>Way 2 Sexy</td>\n",
       "      <td>Drake Featuring Future &amp; Young Thug</td>\n",
       "    </tr>\n",
       "    <tr>\n",
       "      <th>1</th>\n",
       "      <td>2</td>\n",
       "      <td>Girls Want Girls</td>\n",
       "      <td>Drake Featuring Lil Baby</td>\n",
       "    </tr>\n",
       "    <tr>\n",
       "      <th>2</th>\n",
       "      <td>3</td>\n",
       "      <td>Fair Trade</td>\n",
       "      <td>Drake Featuring Travis Scott</td>\n",
       "    </tr>\n",
       "    <tr>\n",
       "      <th>3</th>\n",
       "      <td>4</td>\n",
       "      <td>Champagne Poetry</td>\n",
       "      <td>Drake</td>\n",
       "    </tr>\n",
       "    <tr>\n",
       "      <th>4</th>\n",
       "      <td>5</td>\n",
       "      <td>Knife Talk</td>\n",
       "      <td>Drake Featuring 21 Savage &amp; Project Pat</td>\n",
       "    </tr>\n",
       "  </tbody>\n",
       "</table>\n",
       "</div>"
      ],
      "text/plain": [
       "   Unnamed: 0             title                                   artist\n",
       "0           1        Way 2 Sexy      Drake Featuring Future & Young Thug\n",
       "1           2  Girls Want Girls                 Drake Featuring Lil Baby\n",
       "2           3        Fair Trade             Drake Featuring Travis Scott\n",
       "3           4  Champagne Poetry                                    Drake\n",
       "4           5        Knife Talk  Drake Featuring 21 Savage & Project Pat"
      ]
     },
     "execution_count": 3,
     "metadata": {},
     "output_type": "execute_result"
    }
   ],
   "source": [
    "top100.head()"
   ]
  },
  {
   "cell_type": "code",
   "execution_count": null,
   "id": "fc209611",
   "metadata": {},
   "outputs": [],
   "source": [
    "#delete index\n"
   ]
  },
  {
   "cell_type": "code",
   "execution_count": 4,
   "id": "732809f5",
   "metadata": {},
   "outputs": [],
   "source": [
    "top100= top100.rename(columns={\"Unnamed: 0\": \"ranking\"})"
   ]
  },
  {
   "cell_type": "code",
   "execution_count": 5,
   "id": "99fbba12",
   "metadata": {},
   "outputs": [
    {
     "data": {
      "text/html": [
       "<div>\n",
       "<style scoped>\n",
       "    .dataframe tbody tr th:only-of-type {\n",
       "        vertical-align: middle;\n",
       "    }\n",
       "\n",
       "    .dataframe tbody tr th {\n",
       "        vertical-align: top;\n",
       "    }\n",
       "\n",
       "    .dataframe thead th {\n",
       "        text-align: right;\n",
       "    }\n",
       "</style>\n",
       "<table border=\"1\" class=\"dataframe\">\n",
       "  <thead>\n",
       "    <tr style=\"text-align: right;\">\n",
       "      <th></th>\n",
       "      <th>ranking</th>\n",
       "      <th>title</th>\n",
       "      <th>artist</th>\n",
       "    </tr>\n",
       "  </thead>\n",
       "  <tbody>\n",
       "    <tr>\n",
       "      <th>0</th>\n",
       "      <td>1</td>\n",
       "      <td>Way 2 Sexy</td>\n",
       "      <td>Drake Featuring Future &amp; Young Thug</td>\n",
       "    </tr>\n",
       "    <tr>\n",
       "      <th>1</th>\n",
       "      <td>2</td>\n",
       "      <td>Girls Want Girls</td>\n",
       "      <td>Drake Featuring Lil Baby</td>\n",
       "    </tr>\n",
       "    <tr>\n",
       "      <th>2</th>\n",
       "      <td>3</td>\n",
       "      <td>Fair Trade</td>\n",
       "      <td>Drake Featuring Travis Scott</td>\n",
       "    </tr>\n",
       "    <tr>\n",
       "      <th>3</th>\n",
       "      <td>4</td>\n",
       "      <td>Champagne Poetry</td>\n",
       "      <td>Drake</td>\n",
       "    </tr>\n",
       "    <tr>\n",
       "      <th>4</th>\n",
       "      <td>5</td>\n",
       "      <td>Knife Talk</td>\n",
       "      <td>Drake Featuring 21 Savage &amp; Project Pat</td>\n",
       "    </tr>\n",
       "    <tr>\n",
       "      <th>...</th>\n",
       "      <td>...</td>\n",
       "      <td>...</td>\n",
       "      <td>...</td>\n",
       "    </tr>\n",
       "    <tr>\n",
       "      <th>95</th>\n",
       "      <td>96</td>\n",
       "      <td>Summer Of Love</td>\n",
       "      <td>Shawn Mendes &amp; Tainy</td>\n",
       "    </tr>\n",
       "    <tr>\n",
       "      <th>96</th>\n",
       "      <td>97</td>\n",
       "      <td>Ain't Shit</td>\n",
       "      <td>Doja Cat</td>\n",
       "    </tr>\n",
       "    <tr>\n",
       "      <th>97</th>\n",
       "      <td>98</td>\n",
       "      <td>Motley Crew</td>\n",
       "      <td>Post Malone</td>\n",
       "    </tr>\n",
       "    <tr>\n",
       "      <th>98</th>\n",
       "      <td>99</td>\n",
       "      <td>Remote Control</td>\n",
       "      <td>Kanye West</td>\n",
       "    </tr>\n",
       "    <tr>\n",
       "      <th>99</th>\n",
       "      <td>100</td>\n",
       "      <td>Baddest</td>\n",
       "      <td>Yung Bleu, Chris Brown &amp; 2 Chainz</td>\n",
       "    </tr>\n",
       "  </tbody>\n",
       "</table>\n",
       "<p>100 rows × 3 columns</p>\n",
       "</div>"
      ],
      "text/plain": [
       "    ranking             title                                   artist\n",
       "0         1        Way 2 Sexy      Drake Featuring Future & Young Thug\n",
       "1         2  Girls Want Girls                 Drake Featuring Lil Baby\n",
       "2         3        Fair Trade             Drake Featuring Travis Scott\n",
       "3         4  Champagne Poetry                                    Drake\n",
       "4         5        Knife Talk  Drake Featuring 21 Savage & Project Pat\n",
       "..      ...               ...                                      ...\n",
       "95       96    Summer Of Love                     Shawn Mendes & Tainy\n",
       "96       97        Ain't Shit                                 Doja Cat\n",
       "97       98       Motley Crew                              Post Malone\n",
       "98       99    Remote Control                               Kanye West\n",
       "99      100           Baddest        Yung Bleu, Chris Brown & 2 Chainz\n",
       "\n",
       "[100 rows x 3 columns]"
      ]
     },
     "execution_count": 5,
     "metadata": {},
     "output_type": "execute_result"
    }
   ],
   "source": [
    "top100"
   ]
  },
  {
   "cell_type": "markdown",
   "id": "25bb99f6",
   "metadata": {},
   "source": [
    "## Frist Prototype\n",
    "\n",
    "#input->if song in title -> recommend another song -> if not get audio features of the song -> recommend a song that sounds similar\n"
   ]
  },
  {
   "cell_type": "code",
   "execution_count": 9,
   "id": "0f43ba6d",
   "metadata": {},
   "outputs": [],
   "source": [
    "#random choice\n",
    "recommendations= random.choice(top100.title)"
   ]
  },
  {
   "cell_type": "code",
   "execution_count": 10,
   "id": "e2f4535e",
   "metadata": {},
   "outputs": [],
   "source": [
    "def recommend_plus_artist():\n",
    "    \n",
    "    ask_song=input(\"Welcome to Gnoosic! Tell me your favorite song: \").lower().title()\n",
    "#  ask_artist=input(\"Which artist?\") # input artist\n",
    "    \n",
    "    if len(ask_song) == 0: #if input is empty ask again\n",
    "        ask_song=input(\"Still waiting for your song: \").lower().title()\n",
    "#typos:\n",
    "\n",
    "#if same name of song then ask for artist:\n",
    "        \n",
    "    if ask_song in list(top100[\"title\"]):\n",
    "            return \"Good choice! What do you think about:\"  + \" \" + recommendations\n",
    "        \n",
    "        #if music doenst exist-> ask for artist\n",
    "        \n",
    "\n",
    "    if ask_song not in list (top100[\"title\"]):\n",
    "        ask_artist=input(\"Couldn't find a match. Maybe I can help you if you tell me the artist? Artist:\").lower().title()\n",
    "        \n",
    "    if ask_artist in list(top100[\"artist\"]):\n",
    "        return \"Good choice! What do you think about:\"  + \" \" + recommendations\n",
    "    \n",
    "    else:\n",
    "        return \"Sorry there is no hot music for you\""
   ]
  },
  {
   "cell_type": "code",
   "execution_count": 12,
   "id": "65f5495c",
   "metadata": {},
   "outputs": [
    {
     "name": "stdout",
     "output_type": "stream",
     "text": [
      "Welcome to Gnoosic! Tell me your favorite song: drake\n",
      "Couldn't find a match. Maybe I can help you if you tell me the artist? Artist:drake\n"
     ]
    },
    {
     "data": {
      "text/plain": [
       "'Good choice! What do you think about: Fair Trade'"
      ]
     },
     "execution_count": 12,
     "metadata": {},
     "output_type": "execute_result"
    }
   ],
   "source": [
    "recommend_plus_artist()"
   ]
  },
  {
   "cell_type": "code",
   "execution_count": null,
   "id": "686ebf0e",
   "metadata": {},
   "outputs": [],
   "source": []
  }
 ],
 "metadata": {
  "kernelspec": {
   "display_name": "Python 3",
   "language": "python",
   "name": "python3"
  },
  "language_info": {
   "codemirror_mode": {
    "name": "ipython",
    "version": 3
   },
   "file_extension": ".py",
   "mimetype": "text/x-python",
   "name": "python",
   "nbconvert_exporter": "python",
   "pygments_lexer": "ipython3",
   "version": "3.8.8"
  }
 },
 "nbformat": 4,
 "nbformat_minor": 5
}
