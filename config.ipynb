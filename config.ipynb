{
 "cells": [
  {
   "cell_type": "code",
   "execution_count": 4,
   "id": "2f29de16",
   "metadata": {},
   "outputs": [],
   "source": [
    "client_id=\"588ab651fa66464d8372cfe6943b0f8b\""
   ]
  },
  {
   "cell_type": "code",
   "execution_count": 5,
   "id": "34c5e787",
   "metadata": {},
   "outputs": [],
   "source": [
    "client_secret= \"40fde9f2b92a4313a580017b0871414c\""
   ]
  },
  {
   "cell_type": "code",
   "execution_count": null,
   "id": "b1ac0cd0",
   "metadata": {},
   "outputs": [],
   "source": []
  }
 ],
 "metadata": {
  "kernelspec": {
   "display_name": "Python 3",
   "language": "python",
   "name": "python3"
  },
  "language_info": {
   "codemirror_mode": {
    "name": "ipython",
    "version": 3
   },
   "file_extension": ".py",
   "mimetype": "text/x-python",
   "name": "python",
   "nbconvert_exporter": "python",
   "pygments_lexer": "ipython3",
   "version": "3.8.8"
  }
 },
 "nbformat": 4,
 "nbformat_minor": 5
}
