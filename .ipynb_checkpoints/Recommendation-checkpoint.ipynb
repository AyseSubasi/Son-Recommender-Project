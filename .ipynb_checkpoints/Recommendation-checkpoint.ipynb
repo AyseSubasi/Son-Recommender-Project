{
 "cells": [
  {
   "cell_type": "markdown",
   "id": "fae75ef4",
   "metadata": {},
   "source": [
    "## Welcome to Gnoosic"
   ]
  },
  {
   "cell_type": "code",
   "execution_count": 7,
   "id": "13ea2e60",
   "metadata": {},
   "outputs": [],
   "source": [
    "from firstprototype import recommend_plus_artist"
   ]
  },
  {
   "cell_type": "code",
   "execution_count": 8,
   "id": "81ee8b2c",
   "metadata": {},
   "outputs": [
    {
     "name": "stdout",
     "output_type": "stream",
     "text": [
      "Welcome to Gnoosic! Tell me your favorite song: Drake\n",
      "Couldn't find a match. Maybe I can help you if you tell me the artist? Artist:drake\n"
     ]
    },
    {
     "data": {
      "text/plain": [
       "'Good choice! What do you think about: Motley Crew'"
      ]
     },
     "execution_count": 8,
     "metadata": {},
     "output_type": "execute_result"
    }
   ],
   "source": [
    "recommend_plus_artist()"
   ]
  },
  {
   "cell_type": "code",
   "execution_count": null,
   "id": "25eb7f7f",
   "metadata": {},
   "outputs": [],
   "source": []
  }
 ],
 "metadata": {
  "kernelspec": {
   "display_name": "Python 3",
   "language": "python",
   "name": "python3"
  },
  "language_info": {
   "codemirror_mode": {
    "name": "ipython",
    "version": 3
   },
   "file_extension": ".py",
   "mimetype": "text/x-python",
   "name": "python",
   "nbconvert_exporter": "python",
   "pygments_lexer": "ipython3",
   "version": "3.8.8"
  }
 },
 "nbformat": 4,
 "nbformat_minor": 5
}
