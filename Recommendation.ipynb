{
 "cells": [
  {
   "cell_type": "markdown",
   "id": "481a0976",
   "metadata": {},
   "source": [
    "## Welcome to Gnoosic"
   ]
  },
  {
   "cell_type": "code",
   "execution_count": 7,
   "id": "13ea2e60",
   "metadata": {},
   "outputs": [],
   "source": [
    "from firstprototype import recommend_plus_artist"
   ]
  },
  {
   "cell_type": "code",
   "execution_count": 3,
   "id": "81ee8b2c",
   "metadata": {},
   "outputs": [
    {
     "name": "stdout",
     "output_type": "stream",
     "text": [
      "Welcome to Gnoosic! Tell me your favorite song: \n",
      "Still waiting for your song: amazed\n",
      "Couldn't find a match. Maybe I can help you if you tell me the artist? Artist:Drake\n"
     ]
    },
    {
     "data": {
      "text/plain": [
       "'Good choice! What do you think about: In The Bible'"
      ]
     },
     "execution_count": 3,
     "metadata": {},
     "output_type": "execute_result"
    }
   ],
   "source": [
    "recommend_plus_artist()"
   ]
  },
  {
   "cell_type": "code",
   "execution_count": 8,
   "id": "1027bda7",
   "metadata": {},
   "outputs": [
    {
     "name": "stdout",
     "output_type": "stream",
     "text": [
      "Welcome to Gnoosic! Tell me your favorite song: \n",
      "Still waiting for your song: way 2 sexy\n"
     ]
    },
    {
     "data": {
      "text/plain": [
       "'Good choice! What do you think about: In The Bible'"
      ]
     },
     "execution_count": 8,
     "metadata": {},
     "output_type": "execute_result"
    }
   ],
   "source": [
    "recommend_plus_artist()"
   ]
  },
  {
   "cell_type": "code",
   "execution_count": 9,
   "id": "26c81267",
   "metadata": {},
   "outputs": [
    {
     "name": "stdout",
     "output_type": "stream",
     "text": [
      "Welcome to Gnoosic! Tell me your favorite song: \n",
      "Still waiting for your song: amazed\n",
      "Couldn't find a match. Maybe I can help you if you tell me the artist? Artist:Drake\n"
     ]
    },
    {
     "data": {
      "text/plain": [
       "'Good choice! What do you think about: In The Bible'"
      ]
     },
     "execution_count": 9,
     "metadata": {},
     "output_type": "execute_result"
    }
   ],
   "source": [
    "recommend_plus_artist()"
   ]
  },
  {
   "cell_type": "code",
   "execution_count": null,
   "id": "53a60e81",
   "metadata": {},
   "outputs": [],
   "source": []
  }
 ],
 "metadata": {
  "kernelspec": {
   "display_name": "Python 3",
   "language": "python",
   "name": "python3"
  },
  "language_info": {
   "codemirror_mode": {
    "name": "ipython",
    "version": 3
   },
   "file_extension": ".py",
   "mimetype": "text/x-python",
   "name": "python",
   "nbconvert_exporter": "python",
   "pygments_lexer": "ipython3",
   "version": "3.9.6"
  }
 },
 "nbformat": 4,
 "nbformat_minor": 5
}
